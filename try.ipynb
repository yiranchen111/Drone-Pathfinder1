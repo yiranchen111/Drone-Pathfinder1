import base64
import torch
from PIL import Image
from openai import OpenAI
import os
import io
import pandas as pd

def encode_image_to_base64(image_path):
    # preprocessing
    image = Image.open(image_path)
    image = image.resize((512,512))  
    
    # save images
    buffered = io.BytesIO()
    image.save(buffered, format="PNG")  
    image_b64 = base64.b64encode(buffered.getvalue()).decode("utf-8")
    try:
        decode_img = base64.b64decode(image_b64)
    except base64.binascii.Error:
        return False
    return image_b64

def generate_instructions(image_url):
    """
    Generates flight guidance instructions based on a drone image using OpenAI API.
    """
    try:
        client = OpenAI(
            api_key="",  # OpenAI API key 
            base_url="https://api.openai.com/v1"
        )
        completion = client.chat.completions.create(
            model="gpt-4-turbo",  
            temperature=0,
            messages=[
                {
                    "role": "user",
                    "content": [
                        {
                            "type": "image_url",
                            "image_url": {"url": image_url}, 
                        },
                        {
                            "type": "text",
                            "text": ('''This is an image taken by a drone, showing marked waypoints for the drone's flight path. 
                            Based on the actual scene, provide flight guidance text that includes details about objects, 
                            location, edges, attributes (color, material, accessories, etc.), distance 
                            (e.g., 'long-distance flight' or 'short-distance flight'), and where to pause.

                            Format the output as Step 1, Step 2, ..., Step n. Avoid directional instructions 
                            (such as 'fly upwards') and do not mention red circles or blue lines.

                            Ensure the response is in English. Do not use directional terms or refer to points or lines not part of the scene.
                            ''')
                        },
                    ]
                }
            ],
        )
        return completion.choices[0].message.content
    except Exception as e:
        return f"An error occurred while generating instructions: {str(e)}"

# Example
image_dir = "./images/"
df = pd.read_excel("./output.xlsx")
df = df.drop(index=df.index)
i = 0
for item in os.listdir(image_dir):
    # read
    image_path = os.getcwd() + "/images/" + item
    print(image_path)
    
    image_base64 = encode_image_to_base64(image_path)
    if image_base64:
        image_url = f"data:image/png;base64,{image_base64}"
        instructions = generate_instructions(image_url)
        row = pd.DataFrame({"index": i, "image_name": [item], "output_instructions": [instructions]})
    else:
        row = pd.DataFrame({"index": i, "image_name": [item], "output_instructions": []})
        print("image encode error!\n")
    i += 1
    df = pd.concat([df, row], ignore_index=True)
    print(item, " output: \n", instructions)
    
    df.to_excel("./output.xlsx", index=False)
